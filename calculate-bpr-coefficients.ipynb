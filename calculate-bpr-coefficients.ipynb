{
 "cells": [
  {
   "cell_type": "markdown",
   "metadata": {},
   "source": [
    "# Calculate BPR coefficients for a street network\n",
    "\n",
    "This notebook calculates the BPR (Bureau of Public Roads) curves' coefficients $a_0$, $a_1$, $a_2$, $a_3$, and $a_4$ for an OpenStreetMap street network of the bay area.\n",
    "\n",
    "## BPR function definition:\n",
    "\n",
    "$t_i = t0_i (1 + \\alpha (\\frac{v_i}{c_i}) ^ \\beta)$\n",
    "\n",
    "where:\n",
    "\n",
    "$t_i =$ congested flow travel time on link $i$\n",
    "\n",
    "$t0_i =$ free-flow travel time on link $i$\n",
    "\n",
    "$v_i$ = volume of traffic on link $i$ per unit of time (flow attempting to use link $i$)\n",
    "\n",
    "$c_i =$ capacity of link $i$ per unit of time\n",
    "\n",
    "$\\alpha =$ alpha coefficient, which was assigned a value of 0.15 in the original BPR curve\n",
    "\n",
    "$\\beta =$ beta coefficient, the exponent of the power function, which was assigned a value of 4 in the original BPR curve\n",
    "\n",
    "We will use these default $\\alpha$ and $\\beta$ parameter values in this script, but note that they are not the only way to parameterize this function. For instance, TRB's *NHCRP Report 716: Travel Demand Forecasting Parameters and Techniques* pg 75 provides various coefficients estimated using the 1985 *Highway Capacity Manual*.\n",
    "\n",
    "\n",
    "## BPR coefficients to be calculated in this script:\n",
    "\n",
    "$a_0 = t0_i =$ the free-flow travel time\n",
    "\n",
    "$a_1$, $a_2$, and $a_3$ are not used, they are always zero\n",
    "\n",
    "$a_4 = t0_i \\frac{\\alpha}{c_i ^ {\\beta}}$\n",
    "\n",
    "\n",
    "## Our edge capacity and speed defaults, by highway type and number of lanes:\n",
    "\n",
    "### Capacity defaults:\n",
    "\n",
    "(in units of vehicles per lane per hour)\n",
    "\n",
    "| OSM hwy type  | Description | lanes=1 | lanes=2 | lanes=3 | lanes=4+|\n",
    "| ------------- | ------------- | ------------- | ------------- | ------------- | ------------- |\n",
    "| motorway  | freeway, turnpike, or interstate  | 1900 | 2000 | 2000 | 2200 |\n",
    "| trunk  | surface expressway, divided road, limited number of intersections  | 1900 | 2000 | 2000 | 2000 |\n",
    "| primary  | arterial road  | 1000 | 1000 | 1000 | 1000 |\n",
    "| secondary  | usually separated by a central line on road  | 900 | 900 | 900 | 900 |\n",
    "| tertiary  | links local centers of activity with low to moderate traffic  | 900 | 900 | 900 | 900 |\n",
    "\n",
    "### Max speed defaults:\n",
    "\n",
    "(in units of miles per hour)\n",
    "\n",
    "| OSM hwy type  | Description | lanes=1 | lanes=2 | lanes=3 | lanes=4+|\n",
    "| ------------- | ------------- | ------------- | ------------- | ------------- | ------------- |\n",
    "| motorway  | freeway, turnpike, or interstate  | 50 | 50 | 65 | 65 |\n",
    "| trunk  | surface expressway, divided road, limited number of intersections  | 45 | 45 | 45 | 45 |\n",
    "| primary  | arterial road  | 30 | 30 | 30 | 30 |\n",
    "| secondary  | usually separated by a central line on road  | 25 |25 | 25 | 25 |\n",
    "| tertiary  | links local centers of activity with low to moderate traffic  | 20 | 20 | 20 | 20 |\n",
    "\n",
    "Note: these tables originally come from Maddie Sheehan's solver code for mapping OSM road types to road speeds/capacities."
   ]
  },
  {
   "cell_type": "code",
   "execution_count": 1,
   "metadata": {},
   "outputs": [],
   "source": [
    "import ast\n",
    "import statistics\n",
    "import pandas as pd"
   ]
  },
  {
   "cell_type": "code",
   "execution_count": 2,
   "metadata": {},
   "outputs": [],
   "source": [
    "# define speed defaults for each hwy type and number of lanes, so we can infer when lacking data\n",
    "speed_defaults = {'tertiary' : {1 : 20, 2 : 20, 3 : 20, 4 : 20, -1 : 20},\n",
    "                  'tertiary_link' : {1 : 20, 2 : 20, 3 : 20, 4 : 20, -1 : 20},\n",
    "                  'secondary' : {1 : 25, 2 : 25, 3 : 25, 4 : 25, -1 : 25},\n",
    "                  'secondary_link' : {1 : 25, 2 : 25, 3 : 25, 4 : 25, -1 : 25},\n",
    "                  'primary' : {1 : 30, 2 : 30, 3 : 30, 4 : 30, -1 : 30},\n",
    "                  'primary_link' : {1 : 30, 2 : 30, 3 : 30, 4 : 30, -1 : 30},\n",
    "                  'trunk' : {1 : 45, 2 : 45, 3 : 45, 4 : 45, -1 : 45},\n",
    "                  'trunk_link' : {1 : 45, 2 : 45, 3 : 45, 4 : 45, -1 : 45},\n",
    "                  'motorway' : {1 : 50, 2 : 50, 3 : 65, 4 : 65, -1 : 57.5},\n",
    "                  'motorway_link' : {1 : 50, 2 : 50, 3 : 65, 4 : 65, -1 : 57.5},\n",
    "                  'unclassified' : {1 : 20, 2 : 20, 3 : 20, 4 : 20, -1 : 20},\n",
    "                  'road' : {1 : 30, 2 : 30, 3 : 30, 4 : 30, -1 : 30}}\n",
    "\n",
    "# define per-lane capacity defaults for each hwy type and number of lanes, so we can infer when lacking data\n",
    "capacity_defaults = {'tertiary' : {1 : 900, 2 : 900, 3 : 900, 4 : 900, -1 : 900},\n",
    "                     'tertiary_link' : {1 : 900, 2 : 900, 3 : 900, 4 : 900, -1 : 900},\n",
    "                     'secondary' : {1 : 900, 2 : 900, 3 : 900, 4 : 900, -1 : 900},\n",
    "                     'secondary_link' : {1 : 900, 2 : 900, 3 : 900, 4 : 900, -1 : 900},\n",
    "                     'primary' : {1 : 1000, 2 : 1000, 3 : 1000, 4 : 1000, -1 : 1000},\n",
    "                     'primary_link' : {1 : 1000, 2 : 1000, 3 : 1000, 4 : 1000, -1 : 1000},\n",
    "                     'trunk' : {1 : 1900, 2 : 2000, 3 : 2000, 4 : 2000, -1 : 1975},\n",
    "                     'trunk_link' : {1 : 1900, 2 : 2000, 3 : 2000, 4 : 2000, -1 : 1975},\n",
    "                     'motorway' : {1 : 1900, 2 : 2000, 3 : 2000, 4 : 2200, -1 : 2025},\n",
    "                     'motorway_link' : {1 : 1900, 2 : 2000, 3 : 2000, 4 : 2200, -1 : 2025},\n",
    "                     'unclassified' : {1 : 800, 2 : 800, 3 : 800, 4 : 800, -1 : 800},\n",
    "                     'road' : {1 : 900, 2 : 900, 3 : 900, 4 : 900, -1 : 900}}\n",
    "\n",
    "# note: -1 is the key for the null value\n",
    "# note: highway_links are given the same values as their highway types\n",
    "# note: 'road' is effectively an OSM null highway type\n",
    "# note: 'unclassified' is a highway type one step below tertiary in the OSM hierarchy"
   ]
  },
  {
   "cell_type": "markdown",
   "metadata": {},
   "source": [
    "## Load the data"
   ]
  },
  {
   "cell_type": "code",
   "execution_count": 3,
   "metadata": {},
   "outputs": [
    {
     "data": {
      "text/plain": [
       "65716"
      ]
     },
     "execution_count": 3,
     "metadata": {},
     "output_type": "execute_result"
    }
   ],
   "source": [
    "# load the edge data\n",
    "edges_all = pd.read_csv('data/bay_area_edges.csv', low_memory=False)\n",
    "len(edges_all)"
   ]
  },
  {
   "cell_type": "code",
   "execution_count": 4,
   "metadata": {},
   "outputs": [
    {
     "data": {
      "text/plain": [
       "uniqueid    65716\n",
       "u           65716\n",
       "v           65716\n",
       "length      65716\n",
       "maxspeed    17512\n",
       "lanes       28487\n",
       "highway     65716\n",
       "dtype: int64"
      ]
     },
     "execution_count": 4,
     "metadata": {},
     "output_type": "execute_result"
    }
   ],
   "source": [
    "# retain only useful columns\n",
    "useful_cols = ['uniqueid', 'u', 'v', 'length', 'maxspeed', 'lanes', 'highway']\n",
    "ed = edges_all[useful_cols].copy()\n",
    "ed.count()"
   ]
  },
  {
   "cell_type": "markdown",
   "metadata": {},
   "source": [
    "## Process `highway` type values"
   ]
  },
  {
   "cell_type": "code",
   "execution_count": 5,
   "metadata": {},
   "outputs": [],
   "source": [
    "# convert string representations of lists to lists\n",
    "def convert_lists(value):\n",
    "    if isinstance(value, str) and value.startswith('[') and value.endswith(']'):\n",
    "        return ast.literal_eval(value) #parse str -> list\n",
    "    else:\n",
    "        return value"
   ]
  },
  {
   "cell_type": "code",
   "execution_count": 6,
   "metadata": {},
   "outputs": [],
   "source": [
    "# convert string representation of multiple highway types to a list\n",
    "ed['highway'] = ed['highway'].map(convert_lists)"
   ]
  },
  {
   "cell_type": "code",
   "execution_count": 7,
   "metadata": {},
   "outputs": [],
   "source": [
    "# collapse multiple highway type values into a single value\n",
    "def collapse_multiple_hwy_values(hwy):\n",
    "    if isinstance(hwy, list):\n",
    "        # if we find an item in our defaults dict, use that value\n",
    "        # otherwise, just use the zeroth item in the list\n",
    "        for item in hwy:\n",
    "            if item in speed_defaults.keys():\n",
    "                return item\n",
    "        return hwy[0]\n",
    "    else:\n",
    "        return hwy\n",
    "\n",
    "ed['highway'] = ed['highway'].map(collapse_multiple_hwy_values)"
   ]
  },
  {
   "cell_type": "code",
   "execution_count": 8,
   "metadata": {},
   "outputs": [
    {
     "data": {
      "text/plain": [
       "motorway           2691\n",
       "motorway_link      4884\n",
       "primary            8634\n",
       "primary_link       1177\n",
       "road                170\n",
       "secondary         17297\n",
       "secondary_link     1048\n",
       "tertiary          18817\n",
       "tertiary_link       507\n",
       "trunk              1977\n",
       "trunk_link          971\n",
       "unclassified       7543\n",
       "Name: highway, dtype: int64"
      ]
     },
     "execution_count": 8,
     "metadata": {},
     "output_type": "execute_result"
    }
   ],
   "source": [
    "ed['highway'].value_counts().sort_index()"
   ]
  },
  {
   "cell_type": "markdown",
   "metadata": {},
   "source": [
    "## Process number of `lanes` values"
   ]
  },
  {
   "cell_type": "code",
   "execution_count": 9,
   "metadata": {},
   "outputs": [],
   "source": [
    "# convert string representation of multiple lane values to a list\n",
    "ed['lanes'] = ed['lanes'].map(convert_lists)"
   ]
  },
  {
   "cell_type": "code",
   "execution_count": 10,
   "metadata": {},
   "outputs": [],
   "source": [
    "# collapse multiple lane values into a single value\n",
    "def collapse_multiple_lane_values(value):\n",
    "    if isinstance(value, list):\n",
    "        # return the mean of the values in the list\n",
    "        numeric_values = [int(x) for x in value]\n",
    "        return int(statistics.mean(numeric_values))\n",
    "    else:\n",
    "        return value\n",
    "\n",
    "ed['lanes'] = ed['lanes'].map(collapse_multiple_lane_values)"
   ]
  },
  {
   "cell_type": "code",
   "execution_count": 11,
   "metadata": {},
   "outputs": [
    {
     "data": {
      "text/plain": [
       "{'motorway': 4.0,\n",
       " 'motorway_link': 1.0,\n",
       " 'primary': 3.0,\n",
       " 'primary_link': 1.0,\n",
       " 'road': 2.0,\n",
       " 'secondary': 3.0,\n",
       " 'secondary_link': 1.0,\n",
       " 'tertiary': 2.0,\n",
       " 'tertiary_link': 1.0,\n",
       " 'trunk': 3.0,\n",
       " 'trunk_link': 1.0,\n",
       " 'unclassified': 2.0}"
      ]
     },
     "execution_count": 11,
     "metadata": {},
     "output_type": "execute_result"
    }
   ],
   "source": [
    "# calculate typical number of lanes per hwy type\n",
    "ed['lanes'] = ed['lanes'].astype(float)\n",
    "lane_defaults = ed.groupby('highway')['lanes'].median()\n",
    "lane_defaults = lane_defaults.fillna(value=2).to_dict() #'road' type is null\n",
    "lane_defaults"
   ]
  },
  {
   "cell_type": "code",
   "execution_count": 12,
   "metadata": {},
   "outputs": [],
   "source": [
    "# impute number of lanes when data is missing\n",
    "def impute_lanes(row):\n",
    "    if pd.notnull(row['lanes']):\n",
    "        return row['lanes']\n",
    "    else:\n",
    "        return lane_defaults[row['highway']]\n",
    "\n",
    "ed['lanes'] = ed.apply(impute_lanes, axis=1).astype(int)"
   ]
  },
  {
   "cell_type": "code",
   "execution_count": 13,
   "metadata": {},
   "outputs": [
    {
     "data": {
      "text/plain": [
       "1      8057\n",
       "2     31779\n",
       "3     19193\n",
       "4      4523\n",
       "5      1788\n",
       "6       300\n",
       "7        64\n",
       "8        11\n",
       "11        1\n",
       "Name: lanes, dtype: int64"
      ]
     },
     "execution_count": 13,
     "metadata": {},
     "output_type": "execute_result"
    }
   ],
   "source": [
    "ed['lanes'].value_counts().sort_index()"
   ]
  },
  {
   "cell_type": "code",
   "execution_count": 14,
   "metadata": {},
   "outputs": [],
   "source": [
    "# make 4 lanes the capped value (for 4+ lanes dict lookup), but retain true lanes value in lanes column\n",
    "ed['lanes_capped'] = ed['lanes']\n",
    "ed.loc[ed['lanes_capped'] > 4, 'lanes_capped'] = 4"
   ]
  },
  {
   "cell_type": "code",
   "execution_count": 15,
   "metadata": {},
   "outputs": [
    {
     "data": {
      "text/plain": [
       "1     8057\n",
       "2    31779\n",
       "3    19193\n",
       "4     6687\n",
       "Name: lanes_capped, dtype: int64"
      ]
     },
     "execution_count": 15,
     "metadata": {},
     "output_type": "execute_result"
    }
   ],
   "source": [
    "ed['lanes_capped'].value_counts().sort_index()"
   ]
  },
  {
   "cell_type": "markdown",
   "metadata": {},
   "source": [
    "## Process `maxspeed` values"
   ]
  },
  {
   "cell_type": "code",
   "execution_count": 16,
   "metadata": {},
   "outputs": [],
   "source": [
    "# convert string representation of multiple maxspeed values to a list\n",
    "ed['maxspeed'] = ed['maxspeed'].map(convert_lists)"
   ]
  },
  {
   "cell_type": "code",
   "execution_count": 17,
   "metadata": {},
   "outputs": [],
   "source": [
    "# collapse multiple maxspeed values into a single value\n",
    "def collapse_multiple_maxspeed_values(value):\n",
    "    if isinstance(value, list):\n",
    "        try:\n",
    "            # strip non-numeric \" mph\" from each value in the list then take the mean\n",
    "            values = [int(x.replace(' mph', '')) for x in value]\n",
    "            return statistics.mean(values)\n",
    "        except:\n",
    "            # if exception, return null (a few have multiple values like \"35 mph;40 mph\")\n",
    "            return None\n",
    "    else:\n",
    "        return value\n",
    "\n",
    "ed['maxspeed'] = ed['maxspeed'].map(collapse_multiple_maxspeed_values)"
   ]
  },
  {
   "cell_type": "code",
   "execution_count": 18,
   "metadata": {},
   "outputs": [],
   "source": [
    "# for all string maxspeed values, strip non-numeric \" mph\" from each value\n",
    "def parse_speed_strings(value):\n",
    "    if isinstance(value, str):\n",
    "        value = value.replace(' mph', '')\n",
    "        # sometimes multiple speeds are semicolon-delimited -- collapse to a single value\n",
    "        if ';' in value:\n",
    "            # return the mean of the values if it has that semicolon\n",
    "            values = [int(x) for x in value.split(';')]\n",
    "            return statistics.mean(values)\n",
    "        else:\n",
    "            return int(value)\n",
    "    else:\n",
    "        return value\n",
    "    \n",
    "ed['maxspeed'] = ed['maxspeed'].map(parse_speed_strings)"
   ]
  },
  {
   "cell_type": "code",
   "execution_count": 19,
   "metadata": {},
   "outputs": [
    {
     "data": {
      "text/plain": [
       "5.000000        1\n",
       "10.000000      11\n",
       "15.000000      44\n",
       "17.500000       4\n",
       "20.000000      45\n",
       "22.500000       8\n",
       "25.000000    3579\n",
       "26.666667       2\n",
       "27.500000      44\n",
       "30.000000    2134\n",
       "32.500000      80\n",
       "35.000000    4426\n",
       "36.250000       4\n",
       "37.500000      89\n",
       "38.333333       6\n",
       "40.000000    1878\n",
       "41.000000       2\n",
       "41.250000       2\n",
       "41.666667       2\n",
       "42.500000      34\n",
       "43.333333       2\n",
       "44.000000       2\n",
       "45.000000    1756\n",
       "47.500000      29\n",
       "50.000000     778\n",
       "52.500000      23\n",
       "55.000000     451\n",
       "56.333333       2\n",
       "56.666667       4\n",
       "57.500000       4\n",
       "60.000000      18\n",
       "65.000000    1989\n",
       "67.500000       2\n",
       "70.000000      44\n",
       "80.000000       7\n",
       "Name: maxspeed, dtype: int64"
      ]
     },
     "execution_count": 19,
     "metadata": {},
     "output_type": "execute_result"
    }
   ],
   "source": [
    "ed['maxspeed'].value_counts().sort_index()"
   ]
  },
  {
   "cell_type": "markdown",
   "metadata": {},
   "source": [
    "## Calculate free-flow speed for each edge"
   ]
  },
  {
   "cell_type": "code",
   "execution_count": 20,
   "metadata": {},
   "outputs": [],
   "source": [
    "# infer speed from defaults based on highway type classifier and number of lanes\n",
    "def infer_speed(row):\n",
    "    hwy = row['highway']\n",
    "    lanes = row['lanes_capped']\n",
    "    return speed_defaults[hwy][lanes]"
   ]
  },
  {
   "cell_type": "code",
   "execution_count": 21,
   "metadata": {},
   "outputs": [],
   "source": [
    "# extract maxspeed from OSM data when it already exists\n",
    "known_speeds = ed[pd.notnull(ed['maxspeed'])]['maxspeed']\n",
    "known_speeds = known_speeds.astype(int)"
   ]
  },
  {
   "cell_type": "code",
   "execution_count": 22,
   "metadata": {},
   "outputs": [],
   "source": [
    "# infer speed on all other edges that lack maxspeed data\n",
    "inferred_speeds = ed[pd.isnull(ed['maxspeed'])].apply(infer_speed, axis=1)\n",
    "\n",
    "# merge known speeds with inferred speeds to get a free-flow speed for each edge\n",
    "ed['speed_mph'] = known_speeds.append(inferred_speeds, ignore_index=False, verify_integrity=True)"
   ]
  },
  {
   "cell_type": "markdown",
   "metadata": {},
   "source": [
    "## Infer capacity for each edge"
   ]
  },
  {
   "cell_type": "code",
   "execution_count": 23,
   "metadata": {},
   "outputs": [],
   "source": [
    "# infer capacity per lane per hour from defaults based on highway type classifier and number of lanes\n",
    "def infer_capacity(row):\n",
    "    hwy = row['highway']\n",
    "    lanes = row['lanes_capped']\n",
    "    return capacity_defaults[hwy][lanes]"
   ]
  },
  {
   "cell_type": "code",
   "execution_count": 24,
   "metadata": {},
   "outputs": [],
   "source": [
    "# infer per-lane capacity for each edge using capacity defaults\n",
    "ed['capacity_lane_hour'] = ed.apply(infer_capacity, axis=1)"
   ]
  },
  {
   "cell_type": "code",
   "execution_count": 25,
   "metadata": {},
   "outputs": [],
   "source": [
    "# convert capacity per lane per hour to capacity per edge per hour\n",
    "ed['capacity_hour'] = ed['capacity_lane_hour'] * ed['lanes']"
   ]
  },
  {
   "cell_type": "code",
   "execution_count": 26,
   "metadata": {},
   "outputs": [
    {
     "data": {
      "text/html": [
       "<div>\n",
       "<style scoped>\n",
       "    .dataframe tbody tr th:only-of-type {\n",
       "        vertical-align: middle;\n",
       "    }\n",
       "\n",
       "    .dataframe tbody tr th {\n",
       "        vertical-align: top;\n",
       "    }\n",
       "\n",
       "    .dataframe thead th {\n",
       "        text-align: right;\n",
       "    }\n",
       "</style>\n",
       "<table border=\"1\" class=\"dataframe\">\n",
       "  <thead>\n",
       "    <tr style=\"text-align: right;\">\n",
       "      <th></th>\n",
       "      <th>uniqueid</th>\n",
       "      <th>u</th>\n",
       "      <th>v</th>\n",
       "      <th>length</th>\n",
       "      <th>maxspeed</th>\n",
       "      <th>lanes</th>\n",
       "      <th>highway</th>\n",
       "      <th>lanes_capped</th>\n",
       "      <th>speed_mph</th>\n",
       "      <th>capacity_lane_hour</th>\n",
       "      <th>capacity_hour</th>\n",
       "    </tr>\n",
       "  </thead>\n",
       "  <tbody>\n",
       "    <tr>\n",
       "      <th>0</th>\n",
       "      <td>0</td>\n",
       "      <td>25457926</td>\n",
       "      <td>1696612039</td>\n",
       "      <td>481.148607</td>\n",
       "      <td>NaN</td>\n",
       "      <td>1</td>\n",
       "      <td>motorway_link</td>\n",
       "      <td>1</td>\n",
       "      <td>50</td>\n",
       "      <td>1900</td>\n",
       "      <td>1900</td>\n",
       "    </tr>\n",
       "    <tr>\n",
       "      <th>1</th>\n",
       "      <td>1</td>\n",
       "      <td>25457926</td>\n",
       "      <td>1700584707</td>\n",
       "      <td>633.593245</td>\n",
       "      <td>65.0</td>\n",
       "      <td>3</td>\n",
       "      <td>motorway</td>\n",
       "      <td>3</td>\n",
       "      <td>65</td>\n",
       "      <td>2000</td>\n",
       "      <td>6000</td>\n",
       "    </tr>\n",
       "    <tr>\n",
       "      <th>2</th>\n",
       "      <td>2</td>\n",
       "      <td>25457946</td>\n",
       "      <td>260543593</td>\n",
       "      <td>1111.941089</td>\n",
       "      <td>65.0</td>\n",
       "      <td>3</td>\n",
       "      <td>motorway</td>\n",
       "      <td>3</td>\n",
       "      <td>65</td>\n",
       "      <td>2000</td>\n",
       "      <td>6000</td>\n",
       "    </tr>\n",
       "    <tr>\n",
       "      <th>3</th>\n",
       "      <td>3</td>\n",
       "      <td>26392420</td>\n",
       "      <td>306525216</td>\n",
       "      <td>92.178443</td>\n",
       "      <td>NaN</td>\n",
       "      <td>2</td>\n",
       "      <td>tertiary</td>\n",
       "      <td>2</td>\n",
       "      <td>20</td>\n",
       "      <td>900</td>\n",
       "      <td>1800</td>\n",
       "    </tr>\n",
       "    <tr>\n",
       "      <th>4</th>\n",
       "      <td>4</td>\n",
       "      <td>26392420</td>\n",
       "      <td>2663869153</td>\n",
       "      <td>28.537692</td>\n",
       "      <td>NaN</td>\n",
       "      <td>2</td>\n",
       "      <td>unclassified</td>\n",
       "      <td>2</td>\n",
       "      <td>20</td>\n",
       "      <td>800</td>\n",
       "      <td>1600</td>\n",
       "    </tr>\n",
       "  </tbody>\n",
       "</table>\n",
       "</div>"
      ],
      "text/plain": [
       "   uniqueid         u           v       length  maxspeed  lanes  \\\n",
       "0         0  25457926  1696612039   481.148607       NaN      1   \n",
       "1         1  25457926  1700584707   633.593245      65.0      3   \n",
       "2         2  25457946   260543593  1111.941089      65.0      3   \n",
       "3         3  26392420   306525216    92.178443       NaN      2   \n",
       "4         4  26392420  2663869153    28.537692       NaN      2   \n",
       "\n",
       "         highway  lanes_capped  speed_mph  capacity_lane_hour  capacity_hour  \n",
       "0  motorway_link             1         50                1900           1900  \n",
       "1       motorway             3         65                2000           6000  \n",
       "2       motorway             3         65                2000           6000  \n",
       "3       tertiary             2         20                 900           1800  \n",
       "4   unclassified             2         20                 800           1600  "
      ]
     },
     "execution_count": 26,
     "metadata": {},
     "output_type": "execute_result"
    }
   ],
   "source": [
    "ed.head()"
   ]
  },
  {
   "cell_type": "markdown",
   "metadata": {},
   "source": [
    "## Calculate BPR coefficients"
   ]
  },
  {
   "cell_type": "code",
   "execution_count": 27,
   "metadata": {},
   "outputs": [],
   "source": [
    "# define the parameter values (see documentation at top)\n",
    "alpha = 0.15\n",
    "beta = 4"
   ]
  },
  {
   "cell_type": "markdown",
   "metadata": {},
   "source": [
    "We want travel times in seconds, but our speeds are in miles per hour and our edge lengths are in meters, so we need to do some conversion. We also want capacities in vehicles per link per second, but they are currently in units of vehicles per hour, so we need to convert this and divide by number of lanes."
   ]
  },
  {
   "cell_type": "code",
   "execution_count": 28,
   "metadata": {},
   "outputs": [],
   "source": [
    "meters_per_mile = 1609.34 #factor to convert meters to miles\n",
    "seconds_per_hour = 60 * 60 #factor to convert hours to seconds"
   ]
  },
  {
   "cell_type": "code",
   "execution_count": 29,
   "metadata": {},
   "outputs": [],
   "source": [
    "# convert capacity per hour to capacity per second\n",
    "ed['capacity'] = ed['capacity_hour'] / seconds_per_hour"
   ]
  },
  {
   "cell_type": "code",
   "execution_count": 30,
   "metadata": {},
   "outputs": [],
   "source": [
    "# calculate a0 as free-flow travel time for each edge, in seconds\n",
    "ed['length_miles'] = ed['length'] / meters_per_mile\n",
    "ed['a0'] = ed['length_miles'] / ed['speed_mph']\n",
    "ed['a0'] = ed['a0'] * seconds_per_hour"
   ]
  },
  {
   "cell_type": "code",
   "execution_count": 31,
   "metadata": {},
   "outputs": [],
   "source": [
    "# a1, a2, and a3 are not used, they are always zero\n",
    "ed['a1'] = 0\n",
    "ed['a2'] = 0\n",
    "ed['a3'] = 0"
   ]
  },
  {
   "cell_type": "code",
   "execution_count": 32,
   "metadata": {},
   "outputs": [],
   "source": [
    "# calculate a4 = a0 * alpha / (capacity ^ beta)\n",
    "ed['a4'] = ed['a0'] * alpha / (ed['capacity'] ** beta)"
   ]
  },
  {
   "cell_type": "markdown",
   "metadata": {},
   "source": [
    "## Save to disk"
   ]
  },
  {
   "cell_type": "code",
   "execution_count": 33,
   "metadata": {},
   "outputs": [
    {
     "data": {
      "text/html": [
       "<div>\n",
       "<style scoped>\n",
       "    .dataframe tbody tr th:only-of-type {\n",
       "        vertical-align: middle;\n",
       "    }\n",
       "\n",
       "    .dataframe tbody tr th {\n",
       "        vertical-align: top;\n",
       "    }\n",
       "\n",
       "    .dataframe thead th {\n",
       "        text-align: right;\n",
       "    }\n",
       "</style>\n",
       "<table border=\"1\" class=\"dataframe\">\n",
       "  <thead>\n",
       "    <tr style=\"text-align: right;\">\n",
       "      <th></th>\n",
       "      <th>LINK</th>\n",
       "      <th>A</th>\n",
       "      <th>B</th>\n",
       "      <th>a0</th>\n",
       "      <th>a1</th>\n",
       "      <th>a2</th>\n",
       "      <th>a3</th>\n",
       "      <th>a4</th>\n",
       "    </tr>\n",
       "  </thead>\n",
       "  <tbody>\n",
       "    <tr>\n",
       "      <th>0</th>\n",
       "      <td>0</td>\n",
       "      <td>25457926</td>\n",
       "      <td>1696612039</td>\n",
       "      <td>21.526029</td>\n",
       "      <td>0</td>\n",
       "      <td>0</td>\n",
       "      <td>0</td>\n",
       "      <td>41.615085</td>\n",
       "    </tr>\n",
       "    <tr>\n",
       "      <th>1</th>\n",
       "      <td>1</td>\n",
       "      <td>25457926</td>\n",
       "      <td>1700584707</td>\n",
       "      <td>21.804788</td>\n",
       "      <td>0</td>\n",
       "      <td>0</td>\n",
       "      <td>0</td>\n",
       "      <td>0.423885</td>\n",
       "    </tr>\n",
       "    <tr>\n",
       "      <th>2</th>\n",
       "      <td>2</td>\n",
       "      <td>25457946</td>\n",
       "      <td>260543593</td>\n",
       "      <td>38.266886</td>\n",
       "      <td>0</td>\n",
       "      <td>0</td>\n",
       "      <td>0</td>\n",
       "      <td>0.743908</td>\n",
       "    </tr>\n",
       "    <tr>\n",
       "      <th>3</th>\n",
       "      <td>3</td>\n",
       "      <td>26392420</td>\n",
       "      <td>306525216</td>\n",
       "      <td>10.309891</td>\n",
       "      <td>0</td>\n",
       "      <td>0</td>\n",
       "      <td>0</td>\n",
       "      <td>24.743738</td>\n",
       "    </tr>\n",
       "    <tr>\n",
       "      <th>4</th>\n",
       "      <td>4</td>\n",
       "      <td>26392420</td>\n",
       "      <td>2663869153</td>\n",
       "      <td>3.191858</td>\n",
       "      <td>0</td>\n",
       "      <td>0</td>\n",
       "      <td>0</td>\n",
       "      <td>12.270574</td>\n",
       "    </tr>\n",
       "    <tr>\n",
       "      <th>5</th>\n",
       "      <td>5</td>\n",
       "      <td>26392420</td>\n",
       "      <td>293068494</td>\n",
       "      <td>22.508782</td>\n",
       "      <td>0</td>\n",
       "      <td>0</td>\n",
       "      <td>0</td>\n",
       "      <td>43.514986</td>\n",
       "    </tr>\n",
       "    <tr>\n",
       "      <th>6</th>\n",
       "      <td>6</td>\n",
       "      <td>26404828</td>\n",
       "      <td>2876495476</td>\n",
       "      <td>1.671894</td>\n",
       "      <td>0</td>\n",
       "      <td>0</td>\n",
       "      <td>0</td>\n",
       "      <td>4.012546</td>\n",
       "    </tr>\n",
       "    <tr>\n",
       "      <th>7</th>\n",
       "      <td>7</td>\n",
       "      <td>26404828</td>\n",
       "      <td>2876495468</td>\n",
       "      <td>21.390974</td>\n",
       "      <td>0</td>\n",
       "      <td>0</td>\n",
       "      <td>0</td>\n",
       "      <td>51.338337</td>\n",
       "    </tr>\n",
       "    <tr>\n",
       "      <th>8</th>\n",
       "      <td>8</td>\n",
       "      <td>26404828</td>\n",
       "      <td>2399877571</td>\n",
       "      <td>17.653330</td>\n",
       "      <td>0</td>\n",
       "      <td>0</td>\n",
       "      <td>0</td>\n",
       "      <td>42.367993</td>\n",
       "    </tr>\n",
       "    <tr>\n",
       "      <th>9</th>\n",
       "      <td>9</td>\n",
       "      <td>26404847</td>\n",
       "      <td>26409219</td>\n",
       "      <td>12.833325</td>\n",
       "      <td>0</td>\n",
       "      <td>0</td>\n",
       "      <td>0</td>\n",
       "      <td>20.207867</td>\n",
       "    </tr>\n",
       "  </tbody>\n",
       "</table>\n",
       "</div>"
      ],
      "text/plain": [
       "   LINK         A           B         a0  a1  a2  a3         a4\n",
       "0     0  25457926  1696612039  21.526029   0   0   0  41.615085\n",
       "1     1  25457926  1700584707  21.804788   0   0   0   0.423885\n",
       "2     2  25457946   260543593  38.266886   0   0   0   0.743908\n",
       "3     3  26392420   306525216  10.309891   0   0   0  24.743738\n",
       "4     4  26392420  2663869153   3.191858   0   0   0  12.270574\n",
       "5     5  26392420   293068494  22.508782   0   0   0  43.514986\n",
       "6     6  26404828  2876495476   1.671894   0   0   0   4.012546\n",
       "7     7  26404828  2876495468  21.390974   0   0   0  51.338337\n",
       "8     8  26404828  2399877571  17.653330   0   0   0  42.367993\n",
       "9     9  26404847    26409219  12.833325   0   0   0  20.207867"
      ]
     },
     "execution_count": 33,
     "metadata": {},
     "output_type": "execute_result"
    }
   ],
   "source": [
    "# reformat data into format LBNL desires\n",
    "save_cols = ['uniqueid', 'u', 'v', 'a0', 'a1', 'a2', 'a3', 'a4']\n",
    "ed_save = ed[save_cols]\n",
    "ed_save = ed_save.rename(columns={'uniqueid':'LINK', 'u':'A', 'v':'B'})\n",
    "ed_save.head(10)"
   ]
  },
  {
   "cell_type": "code",
   "execution_count": 34,
   "metadata": {},
   "outputs": [],
   "source": [
    "# save as csv file\n",
    "ed_save.to_csv('data/bay_area_bpr.csv', index=False, encoding='utf-8')"
   ]
  },
  {
   "cell_type": "code",
   "execution_count": null,
   "metadata": {},
   "outputs": [],
   "source": []
  }
 ],
 "metadata": {
  "kernelspec": {
   "display_name": "Python 3",
   "language": "python",
   "name": "python3"
  },
  "language_info": {
   "codemirror_mode": {
    "name": "ipython",
    "version": 3
   },
   "file_extension": ".py",
   "mimetype": "text/x-python",
   "name": "python",
   "nbconvert_exporter": "python",
   "pygments_lexer": "ipython3",
   "version": "3.6.3"
  }
 },
 "nbformat": 4,
 "nbformat_minor": 2
}
